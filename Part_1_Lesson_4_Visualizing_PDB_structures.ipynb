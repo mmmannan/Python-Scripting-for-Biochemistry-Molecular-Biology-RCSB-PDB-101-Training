{
 "cells": [
  {
   "cell_type": "code",
   "execution_count": 58,
   "id": "68f868b6",
   "metadata": {},
   "outputs": [],
   "source": [
    "import os\n",
    "import nglview as nv"
   ]
  },
  {
   "cell_type": "code",
   "execution_count": 17,
   "id": "e53b9740",
   "metadata": {},
   "outputs": [],
   "source": [
    "file_path = os.path.join(\"PDB_files\", \"3fgu.pdb\")\n",
    "view = nv.show_file(file_path)"
   ]
  },
  {
   "cell_type": "code",
   "execution_count": 18,
   "id": "de0846e3",
   "metadata": {},
   "outputs": [
    {
     "data": {
      "application/vnd.jupyter.widget-view+json": {
       "model_id": "cd2c8ea85a1d44268434c0394810428c",
       "version_major": 2,
       "version_minor": 0
      },
      "text/plain": [
       "NGLWidget()"
      ]
     },
     "metadata": {},
     "output_type": "display_data"
    }
   ],
   "source": [
    "view"
   ]
  },
  {
   "cell_type": "code",
   "execution_count": 6,
   "id": "b9f5a1b2",
   "metadata": {},
   "outputs": [],
   "source": [
    "nv.show_file?"
   ]
  },
  {
   "cell_type": "code",
   "execution_count": 7,
   "id": "62853f48",
   "metadata": {},
   "outputs": [
    {
     "data": {
      "application/vnd.jupyter.widget-view+json": {
       "model_id": "1b099c93bee349cdae78db8f974818af",
       "version_major": 2,
       "version_minor": 0
      },
      "text/plain": [
       "NGLWidget()"
      ]
     },
     "metadata": {},
     "output_type": "display_data"
    }
   ],
   "source": [
    "view = nv.show_file(file_path)\n",
    "view.clear_representations()\n",
    "view.add_representation(\"ball+stick\")\n",
    "view"
   ]
  },
  {
   "cell_type": "code",
   "execution_count": 9,
   "id": "bbb9f5f7",
   "metadata": {},
   "outputs": [
    {
     "data": {
      "application/vnd.jupyter.widget-view+json": {
       "model_id": "0a326c86aac74473accca9eb50d3521c",
       "version_major": 2,
       "version_minor": 0
      },
      "text/plain": [
       "NGLWidget()"
      ]
     },
     "metadata": {},
     "output_type": "display_data"
    }
   ],
   "source": [
    "view = nv.show_file(file_path)\n",
    "view.clear_representations()\n",
    "view.add_representation('hyperball')\n",
    "view"
   ]
  },
  {
   "cell_type": "code",
   "execution_count": 10,
   "id": "14dc4c5e",
   "metadata": {},
   "outputs": [
    {
     "data": {
      "application/vnd.jupyter.widget-view+json": {
       "model_id": "aff7377ae3fc48b9843660bd14c2ac09",
       "version_major": 2,
       "version_minor": 0
      },
      "text/plain": [
       "NGLWidget()"
      ]
     },
     "metadata": {},
     "output_type": "display_data"
    }
   ],
   "source": [
    "view = nv.show_file(file_path)\n",
    "view.clear_representations()\n",
    "view.add_representation(\"licorice\")\n",
    "view"
   ]
  },
  {
   "cell_type": "code",
   "execution_count": 11,
   "id": "dd29ee40",
   "metadata": {},
   "outputs": [
    {
     "data": {
      "application/vnd.jupyter.widget-view+json": {
       "model_id": "3b3ca575c60d483da482da6f25fbf382",
       "version_major": 2,
       "version_minor": 0
      },
      "text/plain": [
       "NGLWidget()"
      ]
     },
     "metadata": {},
     "output_type": "display_data"
    }
   ],
   "source": [
    "view = nv.show_file(file_path)\n",
    "view.clear_representations()\n",
    "view.add_representation('spacefill')\n",
    "view"
   ]
  },
  {
   "cell_type": "code",
   "execution_count": 26,
   "id": "df1a36a0",
   "metadata": {},
   "outputs": [
    {
     "data": {
      "application/vnd.jupyter.widget-view+json": {
       "model_id": "44d625e629e34fa19ca19d859f69ebb6",
       "version_major": 2,
       "version_minor": 0
      },
      "text/plain": [
       "NGLWidget()"
      ]
     },
     "metadata": {},
     "output_type": "display_data"
    }
   ],
   "source": [
    "view = nv.show_file(file_path)\n",
    "view.clear_representations()\n",
    "view.add_representation(\"cartoon\")\n",
    "view"
   ]
  },
  {
   "cell_type": "code",
   "execution_count": 59,
   "id": "06de0b5c",
   "metadata": {},
   "outputs": [
    {
     "data": {
      "application/vnd.jupyter.widget-view+json": {
       "model_id": "64d7ad33b5c4400a8908854656d3675d",
       "version_major": 2,
       "version_minor": 0
      },
      "text/plain": [
       "NGLWidget()"
      ]
     },
     "metadata": {},
     "output_type": "display_data"
    }
   ],
   "source": [
    "file_path_2 = os.path.join(\"PDB_files\", \"4kpy.pdb\")\n",
    "view = nv.show_file(file_path_2)\n",
    "view"
   ]
  },
  {
   "cell_type": "code",
   "execution_count": 60,
   "id": "121cfe86",
   "metadata": {},
   "outputs": [
    {
     "data": {
      "application/vnd.jupyter.widget-view+json": {
       "model_id": "86323e8a273645f58035aa0b128caff9",
       "version_major": 2,
       "version_minor": 0
      },
      "text/plain": [
       "NGLWidget()"
      ]
     },
     "metadata": {},
     "output_type": "display_data"
    }
   ],
   "source": [
    "view = nv.show_file(file_path_2)\n",
    "view.clear_representations()\n",
    "view.add_representation(\"base\")\n",
    "view"
   ]
  },
  {
   "cell_type": "code",
   "execution_count": 61,
   "id": "170c066f",
   "metadata": {},
   "outputs": [
    {
     "data": {
      "application/vnd.jupyter.widget-view+json": {
       "model_id": "4772587cf4544156bf99f78cd9028ec3",
       "version_major": 2,
       "version_minor": 0
      },
      "text/plain": [
       "NGLWidget()"
      ]
     },
     "metadata": {},
     "output_type": "display_data"
    }
   ],
   "source": [
    "view = nv.show_file(file_path_2)\n",
    "view.clear_representations()\n",
    "view.add_representation(\"cartoon\")\n",
    "view"
   ]
  },
  {
   "cell_type": "code",
   "execution_count": 14,
   "id": "da347cfe",
   "metadata": {},
   "outputs": [
    {
     "data": {
      "application/vnd.jupyter.widget-view+json": {
       "model_id": "d7d1799d0fdd4bbcbf42e539bafea8c6",
       "version_major": 2,
       "version_minor": 0
      },
      "text/plain": [
       "NGLWidget()"
      ]
     },
     "metadata": {},
     "output_type": "display_data"
    }
   ],
   "source": []
  },
  {
   "cell_type": "code",
   "execution_count": 27,
   "id": "6030c504",
   "metadata": {},
   "outputs": [
    {
     "data": {
      "application/vnd.jupyter.widget-view+json": {
       "model_id": "ad2b9d17d0bb4338b29682feee3ca110",
       "version_major": 2,
       "version_minor": 0
      },
      "text/plain": [
       "NGLWidget()"
      ]
     },
     "metadata": {},
     "output_type": "display_data"
    }
   ],
   "source": [
    "file_path = os.path.join(\"PDB_files\", \"3fgu.pdb\")\n",
    "view = nv.show_file(file_path)\n",
    "view"
   ]
  },
  {
   "cell_type": "code",
   "execution_count": 34,
   "id": "a5f98e2d",
   "metadata": {},
   "outputs": [],
   "source": [
    "# Selecting parts of the molecule\n",
    "view = nv.show_file(file_path)\n",
    "view.clear_representations()\n",
    "# Add code here to show ligand\n",
    "view.add_representation(\"hyperball\", \"ligand\")"
   ]
  },
  {
   "cell_type": "code",
   "execution_count": 35,
   "id": "31700036",
   "metadata": {},
   "outputs": [
    {
     "data": {
      "application/vnd.jupyter.widget-view+json": {
       "model_id": "8bdf660be6744a278066323dfcb01365",
       "version_major": 2,
       "version_minor": 0
      },
      "text/plain": [
       "NGLWidget()"
      ]
     },
     "metadata": {},
     "output_type": "display_data"
    }
   ],
   "source": [
    "view"
   ]
  },
  {
   "cell_type": "code",
   "execution_count": 40,
   "id": "8e1ae60d",
   "metadata": {},
   "outputs": [
    {
     "data": {
      "application/vnd.jupyter.widget-view+json": {
       "model_id": "005f8b4bac634955951f6250007e8fe6",
       "version_major": 2,
       "version_minor": 0
      },
      "text/plain": [
       "NGLWidget()"
      ]
     },
     "metadata": {},
     "output_type": "display_data"
    }
   ],
   "source": [
    "view = nv.show_file(file_path)\n",
    "view.clear_representations()\n",
    "# Add code here to show ligand\n",
    "view.add_representation('spacefill',\"ligand\")\n",
    "view"
   ]
  },
  {
   "cell_type": "code",
   "execution_count": 41,
   "id": "4460fc32",
   "metadata": {},
   "outputs": [],
   "source": [
    "view = nv.show_file(file_path)\n",
    "view.clear_representations()\n",
    "# Add code here to show ligand\n",
    "view.add_representation('hyperball',\"ligand\", color = 'red', opacity = 0.9)"
   ]
  },
  {
   "cell_type": "code",
   "execution_count": 42,
   "id": "5cbe97ca",
   "metadata": {},
   "outputs": [
    {
     "data": {
      "application/vnd.jupyter.widget-view+json": {
       "model_id": "832bf3d3e13047f5b12571215275add5",
       "version_major": 2,
       "version_minor": 0
      },
      "text/plain": [
       "NGLWidget()"
      ]
     },
     "metadata": {},
     "output_type": "display_data"
    }
   ],
   "source": [
    "view.center('ligand')\n",
    "view"
   ]
  },
  {
   "cell_type": "code",
   "execution_count": 46,
   "id": "14101007",
   "metadata": {},
   "outputs": [
    {
     "data": {
      "application/vnd.jupyter.widget-view+json": {
       "model_id": "296c8ac3559241cb8ff57488f68209d3",
       "version_major": 2,
       "version_minor": 0
      },
      "text/plain": [
       "NGLWidget()"
      ]
     },
     "metadata": {},
     "output_type": "display_data"
    }
   ],
   "source": [
    "view = nv.show_file(file_path)\n",
    "view.clear_representations()\n",
    "# add color to the protein\n",
    "view.add_representation(\"cartoon\", \"protein\", color='blue', opacity=0.5)\n",
    "view"
   ]
  },
  {
   "cell_type": "code",
   "execution_count": 47,
   "id": "f6784277",
   "metadata": {},
   "outputs": [
    {
     "data": {
      "application/vnd.jupyter.widget-view+json": {
       "model_id": "c396a91f13e7498c978147c2bd491588",
       "version_major": 2,
       "version_minor": 0
      },
      "text/plain": [
       "NGLWidget()"
      ]
     },
     "metadata": {},
     "output_type": "display_data"
    }
   ],
   "source": [
    "# blue cartoon protein + red hyperball ligand\n",
    "view = nv.show_file(file_path)\n",
    "view.clear_representations()\n",
    "view.add_representation(\"hyperball\", 'ligand', color=\"red\", opacity = 0.9)\n",
    "view.add_representation('cartoon', \"protein\", color = 'blue', opacity=0.5)\n",
    "\n",
    "view.center(\"ligand\")\n",
    "view"
   ]
  },
  {
   "cell_type": "code",
   "execution_count": 48,
   "id": "4b7da03b",
   "metadata": {},
   "outputs": [
    {
     "data": {
      "application/vnd.jupyter.widget-view+json": {
       "model_id": "0715ef37095349c1822c142edb72f22f",
       "version_major": 2,
       "version_minor": 0
      },
      "text/plain": [
       "NGLWidget()"
      ]
     },
     "metadata": {},
     "output_type": "display_data"
    }
   ],
   "source": [
    "# Adding representations of contacts / H-bond\n",
    "view = nv.show_file(file_path)\n",
    "view.clear_representations()\n",
    "view.add_representation(\"hyperball\", 'ligand', color=\"red\", opacity = 0.9)\n",
    "view.add_representation('cartoon', \"protein\", color = 'blue', opacity=0.5)\n",
    "\n",
    "view.add_representation(\"contact\")\n",
    "\n",
    "view.center(\"ligand\")\n",
    "view"
   ]
  },
  {
   "cell_type": "code",
   "execution_count": 53,
   "id": "f8cebe09",
   "metadata": {},
   "outputs": [
    {
     "data": {
      "application/vnd.jupyter.widget-view+json": {
       "model_id": "f9da0e210a6a4cd69f68fd7b5cf9fcbe",
       "version_major": 2,
       "version_minor": 0
      },
      "text/plain": [
       "Image(value=b'', width='99%')"
      ]
     },
     "metadata": {},
     "output_type": "display_data"
    }
   ],
   "source": [
    "# Saving Images\n",
    "# To embed a static image in jupyter nootbook\n",
    "view.render_image()"
   ]
  },
  {
   "cell_type": "code",
   "execution_count": 54,
   "id": "5e5dc6ac",
   "metadata": {},
   "outputs": [],
   "source": [
    "# To download the image\n",
    "view.download_image()"
   ]
  },
  {
   "cell_type": "code",
   "execution_count": 55,
   "id": "ce88d972",
   "metadata": {},
   "outputs": [],
   "source": [
    "# by default downloaded image name will be screenshot.png\n",
    "# To change downloaded image name\n",
    "view.download_image(\"3fgu.png\")"
   ]
  },
  {
   "cell_type": "code",
   "execution_count": 56,
   "id": "564df181",
   "metadata": {},
   "outputs": [],
   "source": [
    "view.download_image(\"3fgu.jpeg\")"
   ]
  },
  {
   "cell_type": "code",
   "execution_count": 57,
   "id": "7d64445b",
   "metadata": {},
   "outputs": [],
   "source": [
    "view.download_image(\"3fgu.tiff\")"
   ]
  },
  {
   "cell_type": "code",
   "execution_count": 62,
   "id": "0a21363b",
   "metadata": {},
   "outputs": [
    {
     "data": {
      "application/vnd.jupyter.widget-view+json": {
       "model_id": "51066069f01e493a867c9879693e1951",
       "version_major": 2,
       "version_minor": 0
      },
      "text/plain": [
       "NGLWidget()"
      ]
     },
     "metadata": {},
     "output_type": "display_data"
    }
   ],
   "source": [
    "file_path_3 = os.path.join(\"PDB_files\", \"2ezd.pdb\")\n",
    "view = nv.show_file(file_path_3)\n",
    "view"
   ]
  },
  {
   "cell_type": "code",
   "execution_count": 63,
   "id": "ce748c67",
   "metadata": {},
   "outputs": [
    {
     "data": {
      "application/vnd.jupyter.widget-view+json": {
       "model_id": "e9a8cf0786af4185b854c1c9e186f7d0",
       "version_major": 2,
       "version_minor": 0
      },
      "text/plain": [
       "NGLWidget()"
      ]
     },
     "metadata": {},
     "output_type": "display_data"
    }
   ],
   "source": [
    "view = nv.show_file(file_path_3)\n",
    "view.clear_representations()\n",
    "view.add_representation(\"base\")\n",
    "view"
   ]
  },
  {
   "cell_type": "code",
   "execution_count": 64,
   "id": "8ab19003",
   "metadata": {},
   "outputs": [
    {
     "data": {
      "application/vnd.jupyter.widget-view+json": {
       "model_id": "b81069446cd0478eb9f83f88e9898a0e",
       "version_major": 2,
       "version_minor": 0
      },
      "text/plain": [
       "NGLWidget()"
      ]
     },
     "metadata": {},
     "output_type": "display_data"
    }
   ],
   "source": [
    "view = nv.show_file(file_path_3)\n",
    "view.clear_representations()\n",
    "view.add_representation(\"ball+stick\")\n",
    "view"
   ]
  },
  {
   "cell_type": "code",
   "execution_count": 65,
   "id": "2caec619",
   "metadata": {},
   "outputs": [
    {
     "data": {
      "application/vnd.jupyter.widget-view+json": {
       "model_id": "67c2fce6057344e8901fac6063939329",
       "version_major": 2,
       "version_minor": 0
      },
      "text/plain": [
       "NGLWidget()"
      ]
     },
     "metadata": {},
     "output_type": "display_data"
    }
   ],
   "source": [
    "view = nv.show_file(file_path_3)\n",
    "view.clear_representations()\n",
    "view.add_representation(\"spacefill\")\n",
    "view"
   ]
  },
  {
   "cell_type": "code",
   "execution_count": 66,
   "id": "cffb3406",
   "metadata": {},
   "outputs": [
    {
     "data": {
      "application/vnd.jupyter.widget-view+json": {
       "model_id": "21317aebfcbd4e05b0faee08e41cbaf1",
       "version_major": 2,
       "version_minor": 0
      },
      "text/plain": [
       "NGLWidget()"
      ]
     },
     "metadata": {},
     "output_type": "display_data"
    }
   ],
   "source": [
    "view = nv.show_file(file_path_3)\n",
    "view.clear_representations()\n",
    "view.add_representation(\"cartoon\")\n",
    "view"
   ]
  },
  {
   "cell_type": "code",
   "execution_count": null,
   "id": "c5b26494",
   "metadata": {},
   "outputs": [],
   "source": []
  },
  {
   "cell_type": "code",
   "execution_count": null,
   "id": "467b6c71",
   "metadata": {},
   "outputs": [],
   "source": []
  }
 ],
 "metadata": {
  "kernelspec": {
   "display_name": "Python 3 (ipykernel)",
   "language": "python",
   "name": "python3"
  },
  "language_info": {
   "codemirror_mode": {
    "name": "ipython",
    "version": 3
   },
   "file_extension": ".py",
   "mimetype": "text/x-python",
   "name": "python",
   "nbconvert_exporter": "python",
   "pygments_lexer": "ipython3",
   "version": "3.11.5"
  }
 },
 "nbformat": 4,
 "nbformat_minor": 5
}
