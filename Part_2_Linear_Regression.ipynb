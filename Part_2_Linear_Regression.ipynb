{
 "cells": [
  {
   "cell_type": "code",
   "execution_count": 1,
   "id": "bbb94b69",
   "metadata": {},
   "outputs": [],
   "source": [
    "import os"
   ]
  },
  {
   "cell_type": "code",
   "execution_count": 10,
   "id": "20a26322",
   "metadata": {},
   "outputs": [],
   "source": [
    "import pandas as pd"
   ]
  },
  {
   "cell_type": "code",
   "execution_count": 5,
   "id": "bdd53351",
   "metadata": {},
   "outputs": [
    {
     "data": {
      "text/html": [
       "<div>\n",
       "<style scoped>\n",
       "    .dataframe tbody tr th:only-of-type {\n",
       "        vertical-align: middle;\n",
       "    }\n",
       "\n",
       "    .dataframe tbody tr th {\n",
       "        vertical-align: top;\n",
       "    }\n",
       "\n",
       "    .dataframe thead th {\n",
       "        text-align: right;\n",
       "    }\n",
       "</style>\n",
       "<table border=\"1\" class=\"dataframe\">\n",
       "  <thead>\n",
       "    <tr style=\"text-align: right;\">\n",
       "      <th></th>\n",
       "      <th>Protein Concentration (mg/mL)</th>\n",
       "      <th>A595</th>\n",
       "    </tr>\n",
       "  </thead>\n",
       "  <tbody>\n",
       "    <tr>\n",
       "      <th>0</th>\n",
       "      <td>0.2</td>\n",
       "      <td>0.285</td>\n",
       "    </tr>\n",
       "    <tr>\n",
       "      <th>1</th>\n",
       "      <td>0.4</td>\n",
       "      <td>0.485</td>\n",
       "    </tr>\n",
       "    <tr>\n",
       "      <th>2</th>\n",
       "      <td>0.6</td>\n",
       "      <td>0.621</td>\n",
       "    </tr>\n",
       "    <tr>\n",
       "      <th>3</th>\n",
       "      <td>0.8</td>\n",
       "      <td>0.799</td>\n",
       "    </tr>\n",
       "    <tr>\n",
       "      <th>4</th>\n",
       "      <td>1.0</td>\n",
       "      <td>1.010</td>\n",
       "    </tr>\n",
       "    <tr>\n",
       "      <th>5</th>\n",
       "      <td>1.2</td>\n",
       "      <td>1.118</td>\n",
       "    </tr>\n",
       "  </tbody>\n",
       "</table>\n",
       "</div>"
      ],
      "text/plain": [
       "   Protein Concentration (mg/mL)   A595\n",
       "0                            0.2  0.285\n",
       "1                            0.4  0.485\n",
       "2                            0.6  0.621\n",
       "3                            0.8  0.799\n",
       "4                            1.0  1.010\n",
       "5                            1.2  1.118"
      ]
     },
     "execution_count": 5,
     "metadata": {},
     "output_type": "execute_result"
    }
   ],
   "source": [
    "protein_file = os.path.join('CSV_folder', 'protein_assay.csv')\n",
    "results_df = pd.read_csv(protein_file)\n",
    "results_df"
   ]
  },
  {
   "cell_type": "code",
   "execution_count": 6,
   "id": "d4fdfc42",
   "metadata": {},
   "outputs": [
    {
     "name": "stdout",
     "output_type": "stream",
     "text": [
      "0    0.2\n",
      "1    0.4\n",
      "2    0.6\n",
      "3    0.8\n",
      "4    1.0\n",
      "5    1.2\n",
      "Name: Protein Concentration (mg/mL), dtype: float64 0    0.285\n",
      "1    0.485\n",
      "2    0.621\n",
      "3    0.799\n",
      "4    1.010\n",
      "5    1.118\n",
      "Name: A595, dtype: float64\n"
     ]
    }
   ],
   "source": [
    "xdata = results_df['Protein Concentration (mg/mL)']\n",
    "ydata = results_df['A595']\n",
    "print(xdata, ydata)"
   ]
  },
  {
   "cell_type": "markdown",
   "id": "44387c98",
   "metadata": {},
   "source": [
    "# import the stats module from SciPy to perform the linear regression."
   ]
  },
  {
   "cell_type": "code",
   "execution_count": 7,
   "id": "74f3f67b",
   "metadata": {},
   "outputs": [],
   "source": [
    "from scipy import stats"
   ]
  },
  {
   "cell_type": "code",
   "execution_count": 19,
   "id": "ead3154f",
   "metadata": {},
   "outputs": [
    {
     "name": "stdout",
     "output_type": "stream",
     "text": [
      "Slope = 0.8454285714285716\n",
      "Intercept = 0.12786666666666657\n",
      "R-squared = 0.994690398528738\n",
      "P value = 1.0590717448341336e-05\n",
      "Standard error = 0.030884027089284245\n"
     ]
    }
   ],
   "source": [
    "slope, intercept, r_value, p_value, std_err = stats.linregress(xdata, ydata)\n",
    "print(\"Slope =\", slope)\n",
    "print(\"Intercept =\", intercept)\n",
    "print(\"R-squared =\", r_value**2)\n",
    "print(\"P value =\", p_value)\n",
    "print(\"Standard error =\", std_err)"
   ]
  },
  {
   "cell_type": "code",
   "execution_count": null,
   "id": "794786cd",
   "metadata": {},
   "outputs": [],
   "source": []
  },
  {
   "cell_type": "markdown",
   "id": "63e52365",
   "metadata": {},
   "source": [
    "# Solving for protein concentrations in samples"
   ]
  },
  {
   "cell_type": "code",
   "execution_count": 11,
   "id": "581a097d",
   "metadata": {},
   "outputs": [
    {
     "data": {
      "text/html": [
       "<div>\n",
       "<style scoped>\n",
       "    .dataframe tbody tr th:only-of-type {\n",
       "        vertical-align: middle;\n",
       "    }\n",
       "\n",
       "    .dataframe tbody tr th {\n",
       "        vertical-align: top;\n",
       "    }\n",
       "\n",
       "    .dataframe thead th {\n",
       "        text-align: right;\n",
       "    }\n",
       "</style>\n",
       "<table border=\"1\" class=\"dataframe\">\n",
       "  <thead>\n",
       "    <tr style=\"text-align: right;\">\n",
       "      <th></th>\n",
       "      <th>Sample</th>\n",
       "      <th>A595</th>\n",
       "    </tr>\n",
       "  </thead>\n",
       "  <tbody>\n",
       "    <tr>\n",
       "      <th>0</th>\n",
       "      <td>1</td>\n",
       "      <td>0.183</td>\n",
       "    </tr>\n",
       "    <tr>\n",
       "      <th>1</th>\n",
       "      <td>2</td>\n",
       "      <td>0.682</td>\n",
       "    </tr>\n",
       "    <tr>\n",
       "      <th>2</th>\n",
       "      <td>3</td>\n",
       "      <td>0.759</td>\n",
       "    </tr>\n",
       "    <tr>\n",
       "      <th>3</th>\n",
       "      <td>4</td>\n",
       "      <td>1.340</td>\n",
       "    </tr>\n",
       "    <tr>\n",
       "      <th>4</th>\n",
       "      <td>5</td>\n",
       "      <td>0.935</td>\n",
       "    </tr>\n",
       "    <tr>\n",
       "      <th>5</th>\n",
       "      <td>6</td>\n",
       "      <td>1.013</td>\n",
       "    </tr>\n",
       "  </tbody>\n",
       "</table>\n",
       "</div>"
      ],
      "text/plain": [
       "   Sample   A595\n",
       "0       1  0.183\n",
       "1       2  0.682\n",
       "2       3  0.759\n",
       "3       4  1.340\n",
       "4       5  0.935\n",
       "5       6  1.013"
      ]
     },
     "execution_count": 11,
     "metadata": {},
     "output_type": "execute_result"
    }
   ],
   "source": [
    "samples_file = os.path.join(\"CSV_folder\", \"protein_samples.csv\")\n",
    "samples_df = pd.read_csv(samples_file)\n",
    "samples_df"
   ]
  },
  {
   "cell_type": "code",
   "execution_count": 12,
   "id": "47d15af8",
   "metadata": {},
   "outputs": [
    {
     "name": "stdout",
     "output_type": "stream",
     "text": [
      "0    0.065213\n",
      "1    0.655447\n",
      "2    0.746525\n",
      "3    1.433750\n",
      "4    0.954703\n",
      "5    1.046964\n",
      "Name: A595, dtype: float64\n"
     ]
    }
   ],
   "source": [
    "# Create the Equation\n",
    "protein_conc = (samples_df['A595'] - intercept) / slope\n",
    "print(protein_conc)"
   ]
  },
  {
   "cell_type": "markdown",
   "id": "379e04fe",
   "metadata": {},
   "source": [
    "# Add the column to the dataframe"
   ]
  },
  {
   "cell_type": "markdown",
   "id": "d728210a",
   "metadata": {},
   "source": [
    "Adding a column to a pandas dataframe is simple - you just use the name of the dataframe followed by the name of the new column in single quotes within square brackets."
   ]
  },
  {
   "cell_type": "code",
   "execution_count": 17,
   "id": "177f884d",
   "metadata": {},
   "outputs": [
    {
     "data": {
      "text/html": [
       "<div>\n",
       "<style scoped>\n",
       "    .dataframe tbody tr th:only-of-type {\n",
       "        vertical-align: middle;\n",
       "    }\n",
       "\n",
       "    .dataframe tbody tr th {\n",
       "        vertical-align: top;\n",
       "    }\n",
       "\n",
       "    .dataframe thead th {\n",
       "        text-align: right;\n",
       "    }\n",
       "</style>\n",
       "<table border=\"1\" class=\"dataframe\">\n",
       "  <thead>\n",
       "    <tr style=\"text-align: right;\">\n",
       "      <th></th>\n",
       "      <th>Sample</th>\n",
       "      <th>A595</th>\n",
       "      <th>ProtConc</th>\n",
       "    </tr>\n",
       "  </thead>\n",
       "  <tbody>\n",
       "    <tr>\n",
       "      <th>0</th>\n",
       "      <td>1</td>\n",
       "      <td>0.183</td>\n",
       "      <td>0.065213</td>\n",
       "    </tr>\n",
       "    <tr>\n",
       "      <th>1</th>\n",
       "      <td>2</td>\n",
       "      <td>0.682</td>\n",
       "      <td>0.655447</td>\n",
       "    </tr>\n",
       "    <tr>\n",
       "      <th>2</th>\n",
       "      <td>3</td>\n",
       "      <td>0.759</td>\n",
       "      <td>0.746525</td>\n",
       "    </tr>\n",
       "    <tr>\n",
       "      <th>3</th>\n",
       "      <td>4</td>\n",
       "      <td>1.340</td>\n",
       "      <td>1.433750</td>\n",
       "    </tr>\n",
       "    <tr>\n",
       "      <th>4</th>\n",
       "      <td>5</td>\n",
       "      <td>0.935</td>\n",
       "      <td>0.954703</td>\n",
       "    </tr>\n",
       "    <tr>\n",
       "      <th>5</th>\n",
       "      <td>6</td>\n",
       "      <td>1.013</td>\n",
       "      <td>1.046964</td>\n",
       "    </tr>\n",
       "  </tbody>\n",
       "</table>\n",
       "</div>"
      ],
      "text/plain": [
       "   Sample   A595  ProtConc\n",
       "0       1  0.183  0.065213\n",
       "1       2  0.682  0.655447\n",
       "2       3  0.759  0.746525\n",
       "3       4  1.340  1.433750\n",
       "4       5  0.935  0.954703\n",
       "5       6  1.013  1.046964"
      ]
     },
     "execution_count": 17,
     "metadata": {},
     "output_type": "execute_result"
    }
   ],
   "source": [
    "samples_df[\"ProtConc\"] = protein_conc\n",
    "samples_df"
   ]
  },
  {
   "cell_type": "markdown",
   "id": "d03f5168",
   "metadata": {},
   "source": [
    "# Eliminating values outside the calibration curve (optional)"
   ]
  },
  {
   "cell_type": "markdown",
   "id": "d6d65039",
   "metadata": {},
   "source": [
    "There is one more issue we can address - the absorbance value for two of the unknown samples were outside the absorbance values of the standards. Therefore, these concentrations are not experimentally valid and should be reported as being “Out of Range”."
   ]
  },
  {
   "cell_type": "markdown",
   "id": "91243c3d",
   "metadata": {},
   "source": [
    "We can make this change in the dataframe by using loc to look sequentially at the rows in the dataframe. The syntax here tells python to work with the samples_df dataframe, look at one row at a time (loc), perform a conditional analysis of the A595 value on that row, and change the value for ProtConc to NaN if the A595 < 0.285 (the value for the lowest standard) or A > 1.118 (the value for the highest standard)."
   ]
  },
  {
   "cell_type": "markdown",
   "id": "9b63563d",
   "metadata": {},
   "source": [
    "np.nan is a NumPy function that results in a value of NaN (for not a number) as the output. This is typically used when there is no value in a cell, but it still preserves the datatype in that cell as a float. This is preferred to using a string such as ‘Out of Range’ which would change the datatype for those cells in the column to a string."
   ]
  },
  {
   "cell_type": "code",
   "execution_count": 14,
   "id": "c8de748f",
   "metadata": {},
   "outputs": [],
   "source": [
    "import numpy as np"
   ]
  },
  {
   "cell_type": "code",
   "execution_count": 15,
   "id": "9a6e362e",
   "metadata": {},
   "outputs": [
    {
     "data": {
      "text/html": [
       "<div>\n",
       "<style scoped>\n",
       "    .dataframe tbody tr th:only-of-type {\n",
       "        vertical-align: middle;\n",
       "    }\n",
       "\n",
       "    .dataframe tbody tr th {\n",
       "        vertical-align: top;\n",
       "    }\n",
       "\n",
       "    .dataframe thead th {\n",
       "        text-align: right;\n",
       "    }\n",
       "</style>\n",
       "<table border=\"1\" class=\"dataframe\">\n",
       "  <thead>\n",
       "    <tr style=\"text-align: right;\">\n",
       "      <th></th>\n",
       "      <th>Sample</th>\n",
       "      <th>A595</th>\n",
       "      <th>ProtConc</th>\n",
       "    </tr>\n",
       "  </thead>\n",
       "  <tbody>\n",
       "    <tr>\n",
       "      <th>0</th>\n",
       "      <td>1</td>\n",
       "      <td>0.183</td>\n",
       "      <td>NaN</td>\n",
       "    </tr>\n",
       "    <tr>\n",
       "      <th>1</th>\n",
       "      <td>2</td>\n",
       "      <td>0.682</td>\n",
       "      <td>0.655447</td>\n",
       "    </tr>\n",
       "    <tr>\n",
       "      <th>2</th>\n",
       "      <td>3</td>\n",
       "      <td>0.759</td>\n",
       "      <td>0.746525</td>\n",
       "    </tr>\n",
       "    <tr>\n",
       "      <th>3</th>\n",
       "      <td>4</td>\n",
       "      <td>1.340</td>\n",
       "      <td>NaN</td>\n",
       "    </tr>\n",
       "    <tr>\n",
       "      <th>4</th>\n",
       "      <td>5</td>\n",
       "      <td>0.935</td>\n",
       "      <td>0.954703</td>\n",
       "    </tr>\n",
       "    <tr>\n",
       "      <th>5</th>\n",
       "      <td>6</td>\n",
       "      <td>1.013</td>\n",
       "      <td>1.046964</td>\n",
       "    </tr>\n",
       "  </tbody>\n",
       "</table>\n",
       "</div>"
      ],
      "text/plain": [
       "   Sample   A595  ProtConc\n",
       "0       1  0.183       NaN\n",
       "1       2  0.682  0.655447\n",
       "2       3  0.759  0.746525\n",
       "3       4  1.340       NaN\n",
       "4       5  0.935  0.954703\n",
       "5       6  1.013  1.046964"
      ]
     },
     "execution_count": 15,
     "metadata": {},
     "output_type": "execute_result"
    }
   ],
   "source": [
    "samples_df.loc[samples_df['A595'] < 0.285, 'ProtConc'] = np.nan\n",
    "samples_df.loc[samples_df['A595'] > 1.118, 'ProtConc'] = np.nan\n",
    "samples_df"
   ]
  },
  {
   "cell_type": "markdown",
   "id": "fe77641e",
   "metadata": {},
   "source": [
    "Optional: Rather than hard-coding the minimum and maximum values for the calibration curve, we could also do this programmatically with the .min() and .max() functions."
   ]
  },
  {
   "cell_type": "code",
   "execution_count": 18,
   "id": "a9f1a854",
   "metadata": {},
   "outputs": [
    {
     "data": {
      "text/html": [
       "<div>\n",
       "<style scoped>\n",
       "    .dataframe tbody tr th:only-of-type {\n",
       "        vertical-align: middle;\n",
       "    }\n",
       "\n",
       "    .dataframe tbody tr th {\n",
       "        vertical-align: top;\n",
       "    }\n",
       "\n",
       "    .dataframe thead th {\n",
       "        text-align: right;\n",
       "    }\n",
       "</style>\n",
       "<table border=\"1\" class=\"dataframe\">\n",
       "  <thead>\n",
       "    <tr style=\"text-align: right;\">\n",
       "      <th></th>\n",
       "      <th>Sample</th>\n",
       "      <th>A595</th>\n",
       "      <th>ProtConc</th>\n",
       "    </tr>\n",
       "  </thead>\n",
       "  <tbody>\n",
       "    <tr>\n",
       "      <th>0</th>\n",
       "      <td>1</td>\n",
       "      <td>0.183</td>\n",
       "      <td>NaN</td>\n",
       "    </tr>\n",
       "    <tr>\n",
       "      <th>1</th>\n",
       "      <td>2</td>\n",
       "      <td>0.682</td>\n",
       "      <td>0.655447</td>\n",
       "    </tr>\n",
       "    <tr>\n",
       "      <th>2</th>\n",
       "      <td>3</td>\n",
       "      <td>0.759</td>\n",
       "      <td>0.746525</td>\n",
       "    </tr>\n",
       "    <tr>\n",
       "      <th>3</th>\n",
       "      <td>4</td>\n",
       "      <td>1.340</td>\n",
       "      <td>NaN</td>\n",
       "    </tr>\n",
       "    <tr>\n",
       "      <th>4</th>\n",
       "      <td>5</td>\n",
       "      <td>0.935</td>\n",
       "      <td>0.954703</td>\n",
       "    </tr>\n",
       "    <tr>\n",
       "      <th>5</th>\n",
       "      <td>6</td>\n",
       "      <td>1.013</td>\n",
       "      <td>1.046964</td>\n",
       "    </tr>\n",
       "  </tbody>\n",
       "</table>\n",
       "</div>"
      ],
      "text/plain": [
       "   Sample   A595  ProtConc\n",
       "0       1  0.183       NaN\n",
       "1       2  0.682  0.655447\n",
       "2       3  0.759  0.746525\n",
       "3       4  1.340       NaN\n",
       "4       5  0.935  0.954703\n",
       "5       6  1.013  1.046964"
      ]
     },
     "execution_count": 18,
     "metadata": {},
     "output_type": "execute_result"
    }
   ],
   "source": [
    "samples_df.loc[samples_df['A595'] < results_df['A595'].min(), 'ProtConc'] = np.nan\n",
    "samples_df.loc[samples_df['A595'] > results_df['A595'].max(), 'ProtConc'] = np.nan\n",
    "samples_df"
   ]
  },
  {
   "cell_type": "code",
   "execution_count": null,
   "id": "f7b89645",
   "metadata": {},
   "outputs": [],
   "source": []
  },
  {
   "cell_type": "code",
   "execution_count": null,
   "id": "5d0d6494",
   "metadata": {},
   "outputs": [],
   "source": []
  },
  {
   "cell_type": "code",
   "execution_count": null,
   "id": "b8abe7df",
   "metadata": {},
   "outputs": [],
   "source": []
  }
 ],
 "metadata": {
  "kernelspec": {
   "display_name": "Python 3 (ipykernel)",
   "language": "python",
   "name": "python3"
  },
  "language_info": {
   "codemirror_mode": {
    "name": "ipython",
    "version": 3
   },
   "file_extension": ".py",
   "mimetype": "text/x-python",
   "name": "python",
   "nbconvert_exporter": "python",
   "pygments_lexer": "ipython3",
   "version": "3.11.5"
  }
 },
 "nbformat": 4,
 "nbformat_minor": 5
}
