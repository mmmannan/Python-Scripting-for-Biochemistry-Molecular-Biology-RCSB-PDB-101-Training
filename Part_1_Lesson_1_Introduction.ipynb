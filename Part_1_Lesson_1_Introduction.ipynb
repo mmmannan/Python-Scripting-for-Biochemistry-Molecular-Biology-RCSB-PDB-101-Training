{
 "cells": [
  {
   "cell_type": "code",
   "execution_count": 1,
   "id": "9e83e67d",
   "metadata": {},
   "outputs": [
    {
     "data": {
      "text/plain": [
       "10"
      ]
     },
     "execution_count": 1,
     "metadata": {},
     "output_type": "execute_result"
    }
   ],
   "source": [
    "3+7"
   ]
  },
  {
   "cell_type": "code",
   "execution_count": 3,
   "id": "c31d94f9",
   "metadata": {},
   "outputs": [],
   "source": [
    "# Calculating Michaelis-Menten Kinetics\n",
    "Km = 15.0            # Km = 15 micromolar\n",
    "Vmax = 100.0         # Vmax = 100.0 nanomoles/sec\n",
    "S_conc = 8.0\n",
    "velocity = (Vmax * S_conc)/(Km + S_conc)"
   ]
  },
  {
   "cell_type": "code",
   "execution_count": 4,
   "id": "94798622",
   "metadata": {},
   "outputs": [
    {
     "name": "stdout",
     "output_type": "stream",
     "text": [
      "34.78260869565217\n"
     ]
    }
   ],
   "source": [
    "print(velocity)"
   ]
  },
  {
   "cell_type": "code",
   "execution_count": 5,
   "id": "08a6d2dc",
   "metadata": {},
   "outputs": [
    {
     "name": "stdout",
     "output_type": "stream",
     "text": [
      "34.78260869565217\n"
     ]
    }
   ],
   "source": [
    "velocity = Vmax * S_conc / (Km + S_conc)\n",
    "print(velocity)"
   ]
  },
  {
   "cell_type": "code",
   "execution_count": 6,
   "id": "b84d06d9",
   "metadata": {},
   "outputs": [
    {
     "name": "stdout",
     "output_type": "stream",
     "text": [
      "34.78260869565217\n",
      "34.78260869565217\n"
     ]
    }
   ],
   "source": [
    "print(velocity)\n",
    "velocity * 1000\n",
    "print(velocity)"
   ]
  },
  {
   "cell_type": "code",
   "execution_count": 7,
   "id": "e254b0b4",
   "metadata": {},
   "outputs": [
    {
     "name": "stdout",
     "output_type": "stream",
     "text": [
      "34.78260869565217\n",
      "34782.60869565217\n"
     ]
    }
   ],
   "source": [
    "print(velocity)\n",
    "velocity = velocity * 1000\n",
    "print(velocity)"
   ]
  },
  {
   "cell_type": "code",
   "execution_count": 8,
   "id": "ffa817c1",
   "metadata": {},
   "outputs": [
    {
     "name": "stdout",
     "output_type": "stream",
     "text": [
      "34.78260869565217\n",
      "2086.9565217391305\n"
     ]
    }
   ],
   "source": [
    "# channge the value of velocity to the original value\n",
    "velocity = velocity / 1000\n",
    "v_per_min = velocity * 60\n",
    "print(velocity)\n",
    "print(v_per_min)"
   ]
  },
  {
   "cell_type": "code",
   "execution_count": 9,
   "id": "d519ae2f",
   "metadata": {},
   "outputs": [
    {
     "name": "stdout",
     "output_type": "stream",
     "text": [
      "40.0\n"
     ]
    }
   ],
   "source": [
    "# Assigning multiple variables at once\n",
    "Km, vmax, s_conc = 15.0, 100.0, 10.0\n",
    "velocity = vmax * s_conc / (Km + s_conc)\n",
    "print(velocity)"
   ]
  },
  {
   "cell_type": "code",
   "execution_count": 10,
   "id": "02d5806d",
   "metadata": {},
   "outputs": [
    {
     "data": {
      "text/plain": [
       "float"
      ]
     },
     "execution_count": 10,
     "metadata": {},
     "output_type": "execute_result"
    }
   ],
   "source": [
    "# Data types\n",
    "type(velocity)"
   ]
  },
  {
   "cell_type": "code",
   "execution_count": 11,
   "id": "096a7f63",
   "metadata": {},
   "outputs": [
    {
     "data": {
      "text/plain": [
       "int"
      ]
     },
     "execution_count": 11,
     "metadata": {},
     "output_type": "execute_result"
    }
   ],
   "source": [
    "type(16)"
   ]
  },
  {
   "cell_type": "code",
   "execution_count": 12,
   "id": "168d5760",
   "metadata": {},
   "outputs": [
    {
     "data": {
      "text/plain": [
       "str"
      ]
     },
     "execution_count": 12,
     "metadata": {},
     "output_type": "execute_result"
    }
   ],
   "source": [
    "type(\"velocity\")"
   ]
  },
  {
   "cell_type": "code",
   "execution_count": 13,
   "id": "323d9ad2",
   "metadata": {},
   "outputs": [
    {
     "data": {
      "text/plain": [
       "40.0"
      ]
     },
     "execution_count": 13,
     "metadata": {},
     "output_type": "execute_result"
    }
   ],
   "source": [
    "velocity"
   ]
  },
  {
   "cell_type": "code",
   "execution_count": 14,
   "id": "640ac2fb",
   "metadata": {},
   "outputs": [
    {
     "name": "stdout",
     "output_type": "stream",
     "text": [
      "40.0\n"
     ]
    },
    {
     "data": {
      "text/plain": [
       "str"
      ]
     },
     "execution_count": 14,
     "metadata": {},
     "output_type": "execute_result"
    }
   ],
   "source": [
    "# using str function\n",
    "velocity_string = str(velocity)\n",
    "print(velocity_string)\n",
    "type(velocity_string)"
   ]
  },
  {
   "cell_type": "code",
   "execution_count": 15,
   "id": "ca2c3f6a",
   "metadata": {},
   "outputs": [
    {
     "data": {
      "text/plain": [
       "float"
      ]
     },
     "execution_count": 15,
     "metadata": {},
     "output_type": "execute_result"
    }
   ],
   "source": [
    "type(velocity)"
   ]
  },
  {
   "cell_type": "code",
   "execution_count": 16,
   "id": "04b83bce",
   "metadata": {},
   "outputs": [
    {
     "name": "stdout",
     "output_type": "stream",
     "text": [
      "This list contains 13 substrate concentrations\n"
     ]
    }
   ],
   "source": [
    "# This is a list\n",
    "S_concs = [1.0, 2.0, 3.0, 4.0, 6.0, 8.0, 10.0, 15.0, 20.0, 30.0, 50.0, 75.0, 100.0]\n",
    "# I can determine the length of this list\n",
    "s_length = len(S_concs)\n",
    "print('This list contains', s_length, 'substrate concentrations')"
   ]
  },
  {
   "cell_type": "code",
   "execution_count": 17,
   "id": "16c8d0f1",
   "metadata": {},
   "outputs": [
    {
     "name": "stdout",
     "output_type": "stream",
     "text": [
      "1.0\n"
     ]
    }
   ],
   "source": [
    "# print the first element of the list\n",
    "print(S_concs[0])"
   ]
  },
  {
   "cell_type": "code",
   "execution_count": 20,
   "id": "33bc00d1",
   "metadata": {},
   "outputs": [
    {
     "name": "stdout",
     "output_type": "stream",
     "text": [
      "100.0\n",
      "100.0\n",
      "100.0\n"
     ]
    }
   ],
   "source": [
    "# print the last element of the list\n",
    "print(S_concs[-1])\n",
    "print(S_concs[len(S_concs)-1])\n",
    "print(S_concs[12])"
   ]
  },
  {
   "cell_type": "code",
   "execution_count": 21,
   "id": "b35f9a99",
   "metadata": {},
   "outputs": [
    {
     "name": "stdout",
     "output_type": "stream",
     "text": [
      "100000.0\n"
     ]
    }
   ],
   "source": [
    "S_conc_nM = S_concs[12] * 1000\n",
    "print(S_conc_nM)"
   ]
  },
  {
   "cell_type": "code",
   "execution_count": 22,
   "id": "3c54eddd",
   "metadata": {},
   "outputs": [],
   "source": [
    "# Slices\n",
    "# new_list = list_name[start:end]"
   ]
  },
  {
   "cell_type": "code",
   "execution_count": 23,
   "id": "47bc0133",
   "metadata": {},
   "outputs": [
    {
     "name": "stdout",
     "output_type": "stream",
     "text": [
      "[1.0, 2.0, 3.0]\n"
     ]
    }
   ],
   "source": [
    "short_list = S_concs[0:3]\n",
    "print(short_list)"
   ]
  },
  {
   "cell_type": "code",
   "execution_count": 25,
   "id": "75c79dcf",
   "metadata": {},
   "outputs": [
    {
     "name": "stdout",
     "output_type": "stream",
     "text": [
      "slice1 is [4.0, 6.0, 8.0, 10.0, 15.0, 20.0, 30.0, 50.0, 75.0, 100.0]\n",
      "slice2 is [1.0, 2.0]\n"
     ]
    }
   ],
   "source": [
    "# What does the following code print?\n",
    "slice1 = S_concs[3:]\n",
    "slice2 = S_concs[:2]\n",
    "## 4.0 to 100.0\n",
    "## 1.0  2.0\n",
    "print(\"slice1 is\", slice1)\n",
    "print(\"slice2 is\", slice2)"
   ]
  },
  {
   "cell_type": "code",
   "execution_count": null,
   "id": "3aae1afc",
   "metadata": {},
   "outputs": [],
   "source": []
  },
  {
   "cell_type": "code",
   "execution_count": null,
   "id": "567b9461",
   "metadata": {},
   "outputs": [],
   "source": []
  },
  {
   "cell_type": "code",
   "execution_count": null,
   "id": "ac435b08",
   "metadata": {},
   "outputs": [],
   "source": []
  },
  {
   "cell_type": "code",
   "execution_count": null,
   "id": "b89c28a6",
   "metadata": {},
   "outputs": [],
   "source": []
  },
  {
   "cell_type": "code",
   "execution_count": null,
   "id": "7b821078",
   "metadata": {},
   "outputs": [],
   "source": []
  },
  {
   "cell_type": "code",
   "execution_count": 33,
   "id": "6f4f61b8",
   "metadata": {},
   "outputs": [
    {
     "data": {
      "text/plain": [
       "[1.0, 2.0, 3.0, 4.0, 6.0, 8.0, 10.0, 15.0, 20.0, 30.0, 50.0, 75.0, 100.0]"
      ]
     },
     "execution_count": 33,
     "metadata": {},
     "output_type": "execute_result"
    }
   ],
   "source": [
    "S_concs"
   ]
  },
  {
   "cell_type": "code",
   "execution_count": 34,
   "id": "1061d0a0",
   "metadata": {},
   "outputs": [
    {
     "data": {
      "text/plain": [
       "100.0"
      ]
     },
     "execution_count": 34,
     "metadata": {},
     "output_type": "execute_result"
    }
   ],
   "source": [
    "Vmax"
   ]
  },
  {
   "cell_type": "code",
   "execution_count": 35,
   "id": "f9997461",
   "metadata": {},
   "outputs": [
    {
     "data": {
      "text/plain": [
       "15.0"
      ]
     },
     "execution_count": 35,
     "metadata": {},
     "output_type": "execute_result"
    }
   ],
   "source": [
    "Km"
   ]
  },
  {
   "cell_type": "code",
   "execution_count": 36,
   "id": "d31a3b50",
   "metadata": {},
   "outputs": [
    {
     "name": "stdout",
     "output_type": "stream",
     "text": [
      "6.25\n",
      "11.764705882352942\n",
      "16.666666666666668\n",
      "21.05263157894737\n",
      "28.571428571428573\n",
      "34.78260869565217\n",
      "40.0\n",
      "50.0\n",
      "57.142857142857146\n",
      "66.66666666666667\n",
      "76.92307692307692\n",
      "83.33333333333333\n",
      "86.95652173913044\n"
     ]
    }
   ],
   "source": [
    "# find velocity for each of the substrate concentrations in S_conc\n",
    "for number in S_concs:\n",
    "    velocity = Vmax * number / (Km + number)\n",
    "    print(velocity)"
   ]
  },
  {
   "cell_type": "code",
   "execution_count": 37,
   "id": "06f3ad57",
   "metadata": {},
   "outputs": [
    {
     "ename": "NameError",
     "evalue": "name 'velocities' is not defined",
     "output_type": "error",
     "traceback": [
      "\u001b[1;31m---------------------------------------------------------------------------\u001b[0m",
      "\u001b[1;31mNameError\u001b[0m                                 Traceback (most recent call last)",
      "Cell \u001b[1;32mIn[37], line 5\u001b[0m\n\u001b[0;32m      3\u001b[0m \u001b[38;5;28;01mfor\u001b[39;00m number \u001b[38;5;129;01min\u001b[39;00m S_concs:\n\u001b[0;32m      4\u001b[0m     velocity \u001b[38;5;241m=\u001b[39m Vmax \u001b[38;5;241m*\u001b[39m number \u001b[38;5;241m/\u001b[39m (Km \u001b[38;5;241m+\u001b[39m number)\n\u001b[1;32m----> 5\u001b[0m     velocities\u001b[38;5;241m.\u001b[39mappend(velocity)\n\u001b[0;32m      7\u001b[0m \u001b[38;5;28mprint\u001b[39m(velocities)\n",
      "\u001b[1;31mNameError\u001b[0m: name 'velocities' is not defined"
     ]
    }
   ],
   "source": [
    "# create a new list containing the velocities above\n",
    "# list_name.append(new_thing)\n",
    "for number in S_concs:\n",
    "    velocity = Vmax * number / (Km + number)\n",
    "    velocities.append(velocity)\n",
    "    \n",
    "print(velocities)"
   ]
  },
  {
   "cell_type": "code",
   "execution_count": 38,
   "id": "6c7fd3a2",
   "metadata": {},
   "outputs": [
    {
     "name": "stdout",
     "output_type": "stream",
     "text": [
      "[6.25, 11.764705882352942, 16.666666666666668, 21.05263157894737, 28.571428571428573, 34.78260869565217, 40.0, 50.0, 57.142857142857146, 66.66666666666667, 76.92307692307692, 83.33333333333333, 86.95652173913044]\n"
     ]
    }
   ],
   "source": [
    "velocities = []\n",
    "for number in S_concs:\n",
    "    velocity = Vmax * number / (Km + number)\n",
    "    velocities.append(velocity)\n",
    "    \n",
    "print(velocities)"
   ]
  },
  {
   "cell_type": "code",
   "execution_count": 39,
   "id": "ff7067e3",
   "metadata": {},
   "outputs": [
    {
     "name": "stdout",
     "output_type": "stream",
     "text": [
      "[57.142857142857146, 88.88888888888889]\n"
     ]
    }
   ],
   "source": [
    "# Making choices: Logic Statements\n",
    "Km, Vmax = 25.0, 200.0\n",
    "substrate_concs = [10.0, 20.0, 40.0, 80.0, 100.0]\n",
    "linear_MM = []\n",
    "\n",
    "for number in substrate_concs:\n",
    "    if number < Km:\n",
    "        v_linear = Vmax * number / (Km + number)\n",
    "        linear_MM.append(v_linear)\n",
    "        \n",
    "print(linear_MM)"
   ]
  },
  {
   "cell_type": "code",
   "execution_count": 49,
   "id": "4a5d72d1",
   "metadata": {},
   "outputs": [
    {
     "name": "stdout",
     "output_type": "stream",
     "text": [
      "['1.0', 2.0, 5.0, '14.0', 20.0]\n"
     ]
    }
   ],
   "source": [
    "# Exercise\n",
    "conc_list = ['1.0', 2.0, 5.0, '14.0', 20.0]\n",
    "print(conc_list)"
   ]
  },
  {
   "cell_type": "code",
   "execution_count": 48,
   "id": "a02af041",
   "metadata": {},
   "outputs": [
    {
     "ename": "TypeError",
     "evalue": "can only concatenate str (not \"float\") to str",
     "output_type": "error",
     "traceback": [
      "\u001b[1;31m---------------------------------------------------------------------------\u001b[0m",
      "\u001b[1;31mTypeError\u001b[0m                                 Traceback (most recent call last)",
      "Cell \u001b[1;32mIn[48], line 1\u001b[0m\n\u001b[1;32m----> 1\u001b[0m conc_list[\u001b[38;5;241m0\u001b[39m]\u001b[38;5;241m+\u001b[39mconc_list[\u001b[38;5;241m2\u001b[39m]\u001b[38;5;241m+\u001b[39mconc_list[\u001b[38;5;241m3\u001b[39m]\n",
      "\u001b[1;31mTypeError\u001b[0m: can only concatenate str (not \"float\") to str"
     ]
    }
   ],
   "source": [
    "conc_list[0]+conc_list[2]+conc_list[3]"
   ]
  },
  {
   "cell_type": "code",
   "execution_count": 50,
   "id": "83e21f3f",
   "metadata": {},
   "outputs": [
    {
     "name": "stdout",
     "output_type": "stream",
     "text": [
      "[1.0, 2.0, 5.0, 14.0, 20.0]\n"
     ]
    }
   ],
   "source": [
    "# Exercise\n",
    "conc_list = ['1.0', 2.0, 5.0, '14.0', 20.0]\n",
    "number_list = []\n",
    "\n",
    "for conc in conc_list:\n",
    "    if type(conc) == str:\n",
    "        conc = float(conc)\n",
    "        number_list.append(conc)\n",
    "    else:\n",
    "        number_list.append(conc)\n",
    "        \n",
    "print(number_list)"
   ]
  },
  {
   "cell_type": "code",
   "execution_count": 51,
   "id": "10344be8",
   "metadata": {},
   "outputs": [
    {
     "data": {
      "text/plain": [
       "20.0"
      ]
     },
     "execution_count": 51,
     "metadata": {},
     "output_type": "execute_result"
    }
   ],
   "source": [
    "number_list[0]+number_list[2]+number_list[3]"
   ]
  },
  {
   "cell_type": "code",
   "execution_count": 53,
   "id": "f7ed884a",
   "metadata": {},
   "outputs": [
    {
     "name": "stdout",
     "output_type": "stream",
     "text": [
      "[1.0, 2.0, 5.0, 14.0, 20.0]\n"
     ]
    }
   ],
   "source": [
    "## or\n",
    "## use \"is\" as comparison operator\n",
    "conc_list = ['1.0', 2.0, 5.0, '14.0', 20.0]\n",
    "number_list = []\n",
    "\n",
    "for conc in conc_list:\n",
    "    if type(conc) is str:\n",
    "        conc = float(conc)\n",
    "    \n",
    "    number_list.append(conc)\n",
    "        \n",
    "print(number_list)"
   ]
  },
  {
   "cell_type": "code",
   "execution_count": null,
   "id": "d976a0e2",
   "metadata": {},
   "outputs": [],
   "source": []
  },
  {
   "cell_type": "code",
   "execution_count": null,
   "id": "f02bc1d0",
   "metadata": {},
   "outputs": [],
   "source": []
  },
  {
   "cell_type": "code",
   "execution_count": null,
   "id": "feb85fd6",
   "metadata": {},
   "outputs": [],
   "source": []
  }
 ],
 "metadata": {
  "kernelspec": {
   "display_name": "Python 3 (ipykernel)",
   "language": "python",
   "name": "python3"
  },
  "language_info": {
   "codemirror_mode": {
    "name": "ipython",
    "version": 3
   },
   "file_extension": ".py",
   "mimetype": "text/x-python",
   "name": "python",
   "nbconvert_exporter": "python",
   "pygments_lexer": "ipython3",
   "version": "3.11.5"
  }
 },
 "nbformat": 4,
 "nbformat_minor": 5
}
