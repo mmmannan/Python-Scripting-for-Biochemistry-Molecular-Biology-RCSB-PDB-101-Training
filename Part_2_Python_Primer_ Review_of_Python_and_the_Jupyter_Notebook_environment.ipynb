{
 "cells": [
  {
   "cell_type": "code",
   "execution_count": 1,
   "id": "394904a7",
   "metadata": {},
   "outputs": [
    {
     "data": {
      "text/plain": [
       "10"
      ]
     },
     "execution_count": 1,
     "metadata": {},
     "output_type": "execute_result"
    }
   ],
   "source": [
    "3+7"
   ]
  },
  {
   "cell_type": "code",
   "execution_count": 2,
   "id": "12257182",
   "metadata": {},
   "outputs": [
    {
     "data": {
      "text/plain": [
       "15"
      ]
     },
     "execution_count": 2,
     "metadata": {},
     "output_type": "execute_result"
    }
   ],
   "source": [
    "3 + 12"
   ]
  },
  {
   "cell_type": "code",
   "execution_count": 4,
   "id": "adcb8f45",
   "metadata": {},
   "outputs": [],
   "source": [
    "amount = 0.1   #moles\n",
    "volume = 0.5   #liters"
   ]
  },
  {
   "cell_type": "code",
   "execution_count": 5,
   "id": "41ba75ab",
   "metadata": {},
   "outputs": [
    {
     "data": {
      "text/plain": [
       "0.2"
      ]
     },
     "execution_count": 5,
     "metadata": {},
     "output_type": "execute_result"
    }
   ],
   "source": [
    "molarity = amount / volume    #moles/liter\n",
    "molarity"
   ]
  },
  {
   "cell_type": "code",
   "execution_count": 6,
   "id": "0f2f6971",
   "metadata": {},
   "outputs": [
    {
     "data": {
      "text/plain": [
       "float"
      ]
     },
     "execution_count": 6,
     "metadata": {},
     "output_type": "execute_result"
    }
   ],
   "source": [
    "type(molarity)"
   ]
  },
  {
   "cell_type": "code",
   "execution_count": 7,
   "id": "3bf86884",
   "metadata": {},
   "outputs": [
    {
     "data": {
      "text/plain": [
       "str"
      ]
     },
     "execution_count": 7,
     "metadata": {},
     "output_type": "execute_result"
    }
   ],
   "source": [
    "# define a word (string)\n",
    "unit = \"moles/liter\"\n",
    "type(unit)"
   ]
  },
  {
   "cell_type": "code",
   "execution_count": 8,
   "id": "a590abbd",
   "metadata": {},
   "outputs": [
    {
     "name": "stdout",
     "output_type": "stream",
     "text": [
      "The concentration is 0.2 moles/liter\n"
     ]
    }
   ],
   "source": [
    "# Formatted (\"f-string\" printing)\n",
    "## f-string allows us to put variablse inside of a string\n",
    "## The syntax of an f-string is      my_phrase = f\"Hello{variable}\"\n",
    "my_conc = f\"The concentration is {molarity} {unit}\"\n",
    "print(my_conc)"
   ]
  },
  {
   "cell_type": "code",
   "execution_count": 9,
   "id": "64551686",
   "metadata": {},
   "outputs": [
    {
     "name": "stdout",
     "output_type": "stream",
     "text": [
      "The concentration is {molarity} {unit}\n"
     ]
    }
   ],
   "source": [
    "# Don't forget the f\n",
    "my_string = \"The concentration is {molarity} {unit}\"\n",
    "print(my_string)"
   ]
  },
  {
   "cell_type": "code",
   "execution_count": 12,
   "id": "ca2ca137",
   "metadata": {},
   "outputs": [
    {
     "name": "stdout",
     "output_type": "stream",
     "text": [
      "The concentration is 0.2 moles/liter\n"
     ]
    }
   ],
   "source": [
    "#or\n",
    "print(\"The concentration is\", molarity, unit)"
   ]
  },
  {
   "cell_type": "code",
   "execution_count": 10,
   "id": "2bf17183",
   "metadata": {},
   "outputs": [
    {
     "name": "stdout",
     "output_type": "stream",
     "text": [
      "The length of the list is 5\n"
     ]
    }
   ],
   "source": [
    "amounts = [0.1, 0.2, 0.3, 0.5, 0.7]\n",
    "num_elements = len(amounts)\n",
    "print(f'The length of the list is {num_elements}')"
   ]
  },
  {
   "cell_type": "code",
   "execution_count": 13,
   "id": "9fc450a0",
   "metadata": {},
   "outputs": [
    {
     "name": "stdout",
     "output_type": "stream",
     "text": [
      "The length of the list is 5\n"
     ]
    }
   ],
   "source": [
    "#or\n",
    "print('The length of the list is', num_elements)"
   ]
  },
  {
   "cell_type": "code",
   "execution_count": 16,
   "id": "6f04d0a4",
   "metadata": {},
   "outputs": [
    {
     "data": {
      "text/plain": [
       "0.1"
      ]
     },
     "execution_count": 16,
     "metadata": {},
     "output_type": "execute_result"
    }
   ],
   "source": [
    "# Slices\n",
    "amounts[0]"
   ]
  },
  {
   "cell_type": "code",
   "execution_count": 17,
   "id": "0076d6d0",
   "metadata": {},
   "outputs": [
    {
     "data": {
      "text/plain": [
       "0.7"
      ]
     },
     "execution_count": 17,
     "metadata": {},
     "output_type": "execute_result"
    }
   ],
   "source": [
    "amounts[-1]"
   ]
  },
  {
   "cell_type": "code",
   "execution_count": 20,
   "id": "436fbf03",
   "metadata": {},
   "outputs": [
    {
     "name": "stdout",
     "output_type": "stream",
     "text": [
      "[0.1, 0.2]\n"
     ]
    }
   ],
   "source": [
    "first_two = amounts[0:2]\n",
    "print(first_two)"
   ]
  },
  {
   "cell_type": "code",
   "execution_count": 21,
   "id": "8e2379cc",
   "metadata": {},
   "outputs": [
    {
     "name": "stdout",
     "output_type": "stream",
     "text": [
      "0.1\n",
      "0.2\n",
      "0.3\n",
      "0.5\n",
      "0.7\n"
     ]
    }
   ],
   "source": [
    "for value in amounts:\n",
    "    print(value)"
   ]
  },
  {
   "cell_type": "code",
   "execution_count": 22,
   "id": "a726fc82",
   "metadata": {},
   "outputs": [
    {
     "name": "stdout",
     "output_type": "stream",
     "text": [
      "0.2\n",
      "0.4\n",
      "0.6\n",
      "1.0\n",
      "1.4\n"
     ]
    }
   ],
   "source": [
    "for value in amounts:\n",
    "    conc = value/volume\n",
    "    print(conc)"
   ]
  },
  {
   "cell_type": "code",
   "execution_count": 23,
   "id": "eee6d082",
   "metadata": {},
   "outputs": [
    {
     "name": "stdout",
     "output_type": "stream",
     "text": [
      "[0.2, 0.4, 0.6, 1.0, 1.4]\n"
     ]
    }
   ],
   "source": [
    "concentrations = []\n",
    "for value in amounts:\n",
    "    conc = value/volume\n",
    "    concentrations.append(conc)\n",
    "    \n",
    "print(concentrations)"
   ]
  },
  {
   "cell_type": "code",
   "execution_count": null,
   "id": "93e47c37",
   "metadata": {},
   "outputs": [],
   "source": [
    "# Python Dictionaries\n",
    "# syntax\n",
    "# dictionary_name = {\n",
    "#     \"key1_name\" : key1_value,\n",
    "#     \"key2_name\" : key2_value\n",
    "# }"
   ]
  },
  {
   "cell_type": "code",
   "execution_count": 1,
   "id": "fc790a5f",
   "metadata": {},
   "outputs": [],
   "source": [
    "aa_mw = {\n",
    "    \"ALA\" : 89.10,\n",
    "    \"ARG\" : 174.20,\n",
    "    \"ASN\" : 132.12\n",
    "}"
   ]
  },
  {
   "cell_type": "code",
   "execution_count": 27,
   "id": "0c81d7d2",
   "metadata": {},
   "outputs": [
    {
     "data": {
      "text/plain": [
       "89.1"
      ]
     },
     "execution_count": 27,
     "metadata": {},
     "output_type": "execute_result"
    }
   ],
   "source": [
    "aa_mw[\"ALA\"]"
   ]
  },
  {
   "cell_type": "code",
   "execution_count": 28,
   "id": "5cd0e810",
   "metadata": {},
   "outputs": [
    {
     "name": "stdout",
     "output_type": "stream",
     "text": [
      "dict_keys(['ALA', 'ARG', 'ASN'])\n",
      "dict_values([89.1, 174.2, 132.12])\n"
     ]
    }
   ],
   "source": [
    "print(aa_mw.keys())\n",
    "print(aa_mw.values())"
   ]
  },
  {
   "cell_type": "code",
   "execution_count": 29,
   "id": "e9855a94",
   "metadata": {},
   "outputs": [
    {
     "name": "stdout",
     "output_type": "stream",
     "text": [
      "The molecular weight of ALA is 89.1\n",
      "The molecular weight of ARG is 174.2\n",
      "The molecular weight of ASN is 132.12\n"
     ]
    }
   ],
   "source": [
    "for key, value in aa_mw.items():\n",
    "    print(f'The molecular weight of {key} is {value}')"
   ]
  },
  {
   "cell_type": "code",
   "execution_count": 2,
   "id": "c39855e3",
   "metadata": {},
   "outputs": [
    {
     "name": "stdout",
     "output_type": "stream",
     "text": [
      "ALA 89.1\n",
      "ARG 174.2\n",
      "ASN 132.12\n"
     ]
    }
   ],
   "source": [
    "for key, value in aa_mw.items():\n",
    "    print(f\"{key} {value}\")"
   ]
  },
  {
   "cell_type": "markdown",
   "id": "ebb2331e",
   "metadata": {},
   "source": [
    "# to convert lists to dictionary"
   ]
  },
  {
   "cell_type": "code",
   "execution_count": 31,
   "id": "05a9e13d",
   "metadata": {},
   "outputs": [],
   "source": [
    "residue_keys = [\"ALA\", \"ARG\", \"ASN\"]\n",
    "mass_values = [89.10, 174.20, 132.12]"
   ]
  },
  {
   "cell_type": "code",
   "execution_count": 22,
   "id": "b6b767b1",
   "metadata": {},
   "outputs": [],
   "source": [
    "amino_acid = {}\n",
    "for key in residue_keys:\n",
    "    for value in mass_values:\n",
    "        amino_acid[key] = value"
   ]
  },
  {
   "cell_type": "code",
   "execution_count": 23,
   "id": "4981b1d2",
   "metadata": {},
   "outputs": [
    {
     "name": "stdout",
     "output_type": "stream",
     "text": [
      "Resultant dictionary is : {'ALA': 132.12, 'ARG': 132.12, 'ASN': 132.12}\n"
     ]
    }
   ],
   "source": [
    "# Printing resultant dictionary                              # Wrong\n",
    "print(\"Resultant dictionary is : \" + str(amino_acid))"
   ]
  },
  {
   "cell_type": "code",
   "execution_count": 25,
   "id": "936fc07b",
   "metadata": {},
   "outputs": [],
   "source": [
    "amino_acid = {}\n",
    "for key in residue_keys:\n",
    "    for value in mass_values:\n",
    "        amino_acid[key] = value\n",
    "        mass_values.remove(value)"
   ]
  },
  {
   "cell_type": "code",
   "execution_count": 26,
   "id": "7a4bb488",
   "metadata": {},
   "outputs": [
    {
     "name": "stdout",
     "output_type": "stream",
     "text": [
      "Resultant dictionary is : {'ALA': 132.12, 'ARG': 174.2}\n"
     ]
    }
   ],
   "source": [
    "# Printing resultant dictionary                # Wrong\n",
    "print(\"Resultant dictionary is : \" + str(amino_acid))"
   ]
  },
  {
   "cell_type": "code",
   "execution_count": 32,
   "id": "bad57ce9",
   "metadata": {},
   "outputs": [],
   "source": [
    "amino_acid = {}\n",
    "for key in residue_keys:\n",
    "    for value in mass_values:\n",
    "        amino_acid[key] = value\n",
    "        mass_values.remove(value)\n",
    "        break"
   ]
  },
  {
   "cell_type": "code",
   "execution_count": 29,
   "id": "4329e221",
   "metadata": {},
   "outputs": [
    {
     "name": "stdout",
     "output_type": "stream",
     "text": [
      "Resultant dictionary is : {'ALA': 89.1, 'ARG': 174.2, 'ASN': 132.12}\n"
     ]
    }
   ],
   "source": [
    "# Printing resultant dictionary              # Correct\n",
    "print(\"Resultant dictionary is : \" + str(amino_acid))"
   ]
  },
  {
   "cell_type": "code",
   "execution_count": 33,
   "id": "699f6dde",
   "metadata": {},
   "outputs": [
    {
     "data": {
      "text/plain": [
       "{'ALA': 89.1, 'ARG': 174.2, 'ASN': 132.12}"
      ]
     },
     "execution_count": 33,
     "metadata": {},
     "output_type": "execute_result"
    }
   ],
   "source": [
    "amino_acid"
   ]
  },
  {
   "cell_type": "code",
   "execution_count": 34,
   "id": "1fda207a",
   "metadata": {},
   "outputs": [
    {
     "name": "stdout",
     "output_type": "stream",
     "text": [
      "{'ALA': 89.1, 'ARG': 174.2, 'ASN': 132.12}\n"
     ]
    }
   ],
   "source": [
    "print(amino_acid)"
   ]
  },
  {
   "cell_type": "markdown",
   "id": "06114b3c",
   "metadata": {},
   "source": [
    "# Or"
   ]
  },
  {
   "cell_type": "code",
   "execution_count": 30,
   "id": "08d5705d",
   "metadata": {},
   "outputs": [
    {
     "name": "stdout",
     "output_type": "stream",
     "text": [
      "{'ALA': 89.1, 'ARG': 174.2, 'ASN': 132.12}\n"
     ]
    }
   ],
   "source": [
    "residue_keys = [\"ALA\", \"ARG\", \"ASN\"]\n",
    "mass_values = [89.10, 174.20, 132.12]\n",
    "\n",
    "a_acids = {residue_keys[i]:mass_values[i] for i in range(len(residue_keys))}     ## better to follow\n",
    "\n",
    "print(a_acids)"
   ]
  },
  {
   "cell_type": "markdown",
   "id": "ae18af13",
   "metadata": {},
   "source": [
    "# Or"
   ]
  },
  {
   "cell_type": "code",
   "execution_count": 36,
   "id": "910710cb",
   "metadata": {},
   "outputs": [
    {
     "name": "stdout",
     "output_type": "stream",
     "text": [
      "{'ALA': 89.1, 'ARG': 174.2, 'ASN': 132.12}\n"
     ]
    }
   ],
   "source": [
    "residue_keys = [\"ALA\", \"ARG\", \"ASN\"]\n",
    "mass_values = [89.10, 174.20, 132.12]\n",
    "\n",
    "# to convert lists to dictionary\n",
    "# dictionary_name = dict(map(lambda i,j : (i,j) , keys_list, values_list))\n",
    "a_acid_mw = dict(map(lambda i,j : (i,j), residue_keys, mass_values))\n",
    "\n",
    "print(a_acid_mw)"
   ]
  },
  {
   "cell_type": "code",
   "execution_count": null,
   "id": "077240ea",
   "metadata": {},
   "outputs": [],
   "source": []
  }
 ],
 "metadata": {
  "kernelspec": {
   "display_name": "Python 3 (ipykernel)",
   "language": "python",
   "name": "python3"
  },
  "language_info": {
   "codemirror_mode": {
    "name": "ipython",
    "version": 3
   },
   "file_extension": ".py",
   "mimetype": "text/x-python",
   "name": "python",
   "nbconvert_exporter": "python",
   "pygments_lexer": "ipython3",
   "version": "3.11.5"
  }
 },
 "nbformat": 4,
 "nbformat_minor": 5
}
