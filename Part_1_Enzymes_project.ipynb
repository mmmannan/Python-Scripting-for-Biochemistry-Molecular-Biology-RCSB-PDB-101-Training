{
 "cells": [
  {
   "cell_type": "code",
   "execution_count": 4,
   "id": "4ee9fe33",
   "metadata": {},
   "outputs": [
    {
     "name": "stdout",
     "output_type": "stream",
     "text": [
      "PDB_files\n"
     ]
    }
   ],
   "source": [
    "import os\n",
    "folder_path = os.path.join(\"PDB_files\")\n",
    "print(folder_path)"
   ]
  },
  {
   "cell_type": "code",
   "execution_count": 5,
   "id": "81eb4de8",
   "metadata": {},
   "outputs": [
    {
     "name": "stdout",
     "output_type": "stream",
     "text": [
      "PDB_files\\*.pdb\n"
     ]
    }
   ],
   "source": [
    "folder_location = os.path.join(\"PDB_files\", \"*.pdb\")\n",
    "print(folder_location)"
   ]
  },
  {
   "cell_type": "code",
   "execution_count": 6,
   "id": "d31aae85",
   "metadata": {},
   "outputs": [
    {
     "name": "stdout",
     "output_type": "stream",
     "text": [
      "['PDB_files\\\\1ddo.pdb', 'PDB_files\\\\1ie9.pdb', 'PDB_files\\\\2pkr.pdb', 'PDB_files\\\\3brh.pdb', 'PDB_files\\\\3fgu.pdb', 'PDB_files\\\\3iva.pdb', 'PDB_files\\\\3osk.pdb', 'PDB_files\\\\3vnd.pdb', 'PDB_files\\\\4ey7.pdb', 'PDB_files\\\\4eyr.pdb', 'PDB_files\\\\5eu9.pdb', 'PDB_files\\\\5veu.pdb', 'PDB_files\\\\6zt7.pdb', 'PDB_files\\\\7tim.pdb']\n"
     ]
    }
   ],
   "source": [
    "import glob\n",
    "file_names = glob.glob(folder_location)\n",
    "print(file_names)"
   ]
  },
  {
   "cell_type": "code",
   "execution_count": 7,
   "id": "e0c96309",
   "metadata": {},
   "outputs": [
    {
     "data": {
      "text/plain": [
       "14"
      ]
     },
     "execution_count": 7,
     "metadata": {},
     "output_type": "execute_result"
    }
   ],
   "source": [
    "len(file_names)"
   ]
  },
  {
   "cell_type": "code",
   "execution_count": 8,
   "id": "7104e132",
   "metadata": {},
   "outputs": [
    {
     "name": "stdout",
     "output_type": "stream",
     "text": [
      "COMPND   5 EC: 1.4.3.3                                                          \n",
      "\n",
      "COMPND   6 EC: 1.2.1.13;                                                        \n",
      "\n",
      "COMPND   7 EC: 3.1.3.48;                                                        \n",
      "\n",
      "COMPND   7 EC: 2.7.1.2;                                                         \n",
      "\n",
      "COMPND   7 EC: 2.1.1.13;                                                        \n",
      "\n",
      "COMPND   5 EC: 4.2.1.20;                                                        \n",
      "\n",
      "COMPND   6 EC: 3.1.1.7;                                                         \n",
      "\n",
      "COMPND   6 EC: 4.2.1.11;                                                        \n",
      "\n",
      "COMPND   6 EC: 1.14.14.1;                                                       \n",
      "\n",
      "COMPND   4 EC: 3.2.1.55;                                                        \n",
      "\n",
      "COMPND   4 EC: 5.3.1.1;                                                         \n",
      "\n"
     ]
    }
   ],
   "source": [
    "with open (\"EC_class.txt\", \"w+\") as enz_file:\n",
    "    \n",
    "    for pdb_file in file_names:\n",
    "\n",
    "        # Read the data\n",
    "        with open(pdb_file, 'r') as outfile:\n",
    "            data = outfile.readlines()\n",
    "\n",
    "        for line in  data:\n",
    "            if 'EC:' in line:\n",
    "                ec_line = line\n",
    "                print(ec_line)"
   ]
  },
  {
   "cell_type": "code",
   "execution_count": 9,
   "id": "14eff461",
   "metadata": {},
   "outputs": [
    {
     "name": "stdout",
     "output_type": "stream",
     "text": [
      "['COMPND', '5', 'EC:', '1.4.3.3']\n",
      "['COMPND', '6', 'EC:', '1.2.1.13;']\n",
      "['COMPND', '7', 'EC:', '3.1.3.48;']\n",
      "['COMPND', '7', 'EC:', '2.7.1.2;']\n",
      "['COMPND', '7', 'EC:', '2.1.1.13;']\n",
      "['COMPND', '5', 'EC:', '4.2.1.20;']\n",
      "['COMPND', '6', 'EC:', '3.1.1.7;']\n",
      "['COMPND', '6', 'EC:', '4.2.1.11;']\n",
      "['COMPND', '6', 'EC:', '1.14.14.1;']\n",
      "['COMPND', '4', 'EC:', '3.2.1.55;']\n",
      "['COMPND', '4', 'EC:', '5.3.1.1;']\n"
     ]
    }
   ],
   "source": [
    "with open (\"EC_class.txt\", \"w+\") as enz_file:\n",
    "    \n",
    "    for pdb_file in file_names:\n",
    "    \n",
    "        # Read the data\n",
    "        with open(pdb_file, 'r') as outfile:\n",
    "            data = outfile.readlines()\n",
    "\n",
    "        for line in  data:\n",
    "            if 'EC:' in line:\n",
    "                ec_line = line\n",
    "                words = ec_line.split()\n",
    "                print(words)"
   ]
  },
  {
   "cell_type": "code",
   "execution_count": 10,
   "id": "a8acad7a",
   "metadata": {},
   "outputs": [
    {
     "name": "stdout",
     "output_type": "stream",
     "text": [
      "1.4.3.3\n",
      "1.2.1.13;\n",
      "3.1.3.48;\n",
      "2.7.1.2;\n",
      "2.1.1.13;\n",
      "4.2.1.20;\n",
      "3.1.1.7;\n",
      "4.2.1.11;\n",
      "1.14.14.1;\n",
      "3.2.1.55;\n",
      "5.3.1.1;\n"
     ]
    }
   ],
   "source": [
    "with open (\"EC_class.txt\", \"w+\") as enz_file:\n",
    "    \n",
    "    for pdb_file in file_names:\n",
    "    \n",
    "        # Get the pdb id\n",
    "        f_name = os.path.basename(pdb_file)\n",
    "        pdb_split = f_name.split(\".\")\n",
    "        pdb_id = pdb_split[0]\n",
    "\n",
    "        # Read the data\n",
    "        with open(pdb_file, 'r') as outfile:\n",
    "            data = outfile.readlines()\n",
    "\n",
    "        for line in  data:\n",
    "            if 'EC:' in line:\n",
    "                ec_line = line\n",
    "                words = ec_line.split()\n",
    "                ec = words[3]\n",
    "                print(ec)"
   ]
  },
  {
   "cell_type": "code",
   "execution_count": 11,
   "id": "bf4771ec",
   "metadata": {},
   "outputs": [
    {
     "name": "stdout",
     "output_type": "stream",
     "text": [
      "['1.4.3.3']\n",
      "['1.2.1.13', '']\n",
      "['3.1.3.48', '']\n",
      "['2.7.1.2', '']\n",
      "['2.1.1.13', '']\n",
      "['4.2.1.20', '']\n",
      "['3.1.1.7', '']\n",
      "['4.2.1.11', '']\n",
      "['1.14.14.1', '']\n",
      "['3.2.1.55', '']\n",
      "['5.3.1.1', '']\n"
     ]
    }
   ],
   "source": [
    "with open (\"EC_class.txt\", \"w+\") as enz_file:\n",
    "    \n",
    "    for pdb_file in file_names:\n",
    "    \n",
    "        # Get the pdb id\n",
    "        f_name = os.path.basename(pdb_file)\n",
    "        pdb_split = f_name.split(\".\")\n",
    "        pdb_id = pdb_split[0]\n",
    "\n",
    "        # Read the data\n",
    "        with open(pdb_file, 'r') as outfile:\n",
    "            data = outfile.readlines()\n",
    "\n",
    "        for line in  data:\n",
    "            if 'EC:' in line:\n",
    "                ec_line = line\n",
    "                words = ec_line.split()\n",
    "                ec = words[3]\n",
    "                ec_split = ec.split(\";\")\n",
    "                print(ec_split)"
   ]
  },
  {
   "cell_type": "code",
   "execution_count": 12,
   "id": "55590b95",
   "metadata": {},
   "outputs": [
    {
     "name": "stdout",
     "output_type": "stream",
     "text": [
      "1.4.3.3\n",
      "1.2.1.13\n",
      "3.1.3.48\n",
      "2.7.1.2\n",
      "2.1.1.13\n",
      "4.2.1.20\n",
      "3.1.1.7\n",
      "4.2.1.11\n",
      "1.14.14.1\n",
      "3.2.1.55\n",
      "5.3.1.1\n"
     ]
    }
   ],
   "source": [
    "with open (\"EC_class.txt\", \"w+\") as enz_file:\n",
    "    \n",
    "    for pdb_file in file_names:\n",
    "    \n",
    "        # Get the pdb id\n",
    "        f_name = os.path.basename(pdb_file)\n",
    "        pdb_split = f_name.split(\".\")\n",
    "        pdb_id = pdb_split[0]\n",
    "\n",
    "        # Read the data\n",
    "        with open(pdb_file, 'r') as outfile:\n",
    "            data = outfile.readlines()\n",
    "\n",
    "        for line in  data:\n",
    "            if 'EC:' in line:\n",
    "                ec_line = line\n",
    "                words = ec_line.split()\n",
    "                ec = words[3]\n",
    "                ec_split = ec.split(\";\")\n",
    "                ec_no = ec_split[0]\n",
    "                print(ec_no)"
   ]
  },
  {
   "cell_type": "code",
   "execution_count": 13,
   "id": "789a1a67",
   "metadata": {},
   "outputs": [],
   "source": [
    "with open (\"EC_class.txt\", \"w+\") as enz_file:\n",
    "    \n",
    "    for pdb_file in file_names:\n",
    "    \n",
    "        # Get the pdb id\n",
    "        f_name = os.path.basename(pdb_file)\n",
    "        pdb_split = f_name.split(\".\")\n",
    "        pdb_id = pdb_split[0]\n",
    "\n",
    "        # Read the data\n",
    "        with open(pdb_file, 'r') as outfile:\n",
    "            data = outfile.readlines()\n",
    "\n",
    "        for line in  data:\n",
    "            if 'EC:' in line:\n",
    "                ec_line = line\n",
    "                words = ec_line.split()\n",
    "                ec = words[3]\n",
    "                ec_split = ec.split(\";\")\n",
    "                ec_no = ec_split[0]\n",
    "                enz_file.write(F'{pdb_id} \\t {ec_no}\\n')"
   ]
  },
  {
   "cell_type": "code",
   "execution_count": null,
   "id": "336147cd",
   "metadata": {},
   "outputs": [],
   "source": []
  },
  {
   "cell_type": "code",
   "execution_count": null,
   "id": "a043e0c1",
   "metadata": {},
   "outputs": [],
   "source": []
  },
  {
   "cell_type": "code",
   "execution_count": null,
   "id": "8207d9e7",
   "metadata": {},
   "outputs": [],
   "source": []
  }
 ],
 "metadata": {
  "kernelspec": {
   "display_name": "Python 3 (ipykernel)",
   "language": "python",
   "name": "python3"
  },
  "language_info": {
   "codemirror_mode": {
    "name": "ipython",
    "version": 3
   },
   "file_extension": ".py",
   "mimetype": "text/x-python",
   "name": "python",
   "nbconvert_exporter": "python",
   "pygments_lexer": "ipython3",
   "version": "3.11.5"
  }
 },
 "nbformat": 4,
 "nbformat_minor": 5
}
